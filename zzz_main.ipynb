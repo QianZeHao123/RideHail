{
 "cells": [
  {
   "cell_type": "code",
   "execution_count": 13,
   "id": "94efcc91",
   "metadata": {},
   "outputs": [],
   "source": [
    "import pandas as pd\n",
    "import numpy as np\n",
    "import math\n",
    "from datetime import datetime\n",
    "import os\n",
    "\n",
    "import pandas as pd\n",
    "from sklearn.model_selection import train_test_split\n",
    "from sklearn.metrics import (\n",
    "    classification_report,\n",
    "    roc_auc_score,\n",
    "    confusion_matrix,\n",
    "    precision_score,\n",
    "    recall_score,\n",
    "    f1_score,\n",
    ")\n",
    "\n",
    "from imblearn.ensemble import BalancedRandomForestClassifier\n",
    "import joblib"
   ]
  },
  {
   "cell_type": "markdown",
   "id": "fb71c0ee",
   "metadata": {},
   "source": [
    "---"
   ]
  },
  {
   "cell_type": "markdown",
   "id": "8d720657",
   "metadata": {},
   "source": [
    "## Train Driver-Order Accept Model"
   ]
  },
  {
   "cell_type": "code",
   "execution_count": 14,
   "id": "9cf5fbdb",
   "metadata": {},
   "outputs": [],
   "source": [
    "model_output_folder = \"./out\"\n",
    "os.makedirs(model_output_folder, exist_ok=True)\n",
    "model_path = \"./Out/acceptance_model.pkl\""
   ]
  },
  {
   "cell_type": "code",
   "execution_count": 15,
   "id": "8634911c",
   "metadata": {},
   "outputs": [
    {
     "name": "stdout",
     "output_type": "stream",
     "text": [
      "Model found at ./Out/acceptance_model.pkl. Loading model...\n",
      "Model loaded successfully.\n"
     ]
    }
   ],
   "source": [
    "if os.path.exists(model_path):\n",
    "    print(f\"Model found at {model_path}. Loading model...\")\n",
    "    # with open(model_path, \"rb\") as f:\n",
    "    #     model = pickle.load(f)\n",
    "    model = joblib.load(model_path)\n",
    "    print(\"Model loaded successfully.\")\n",
    "else:\n",
    "    order_driver_data = pd.read_csv(\"./data/order_driver.csv\")\n",
    "\n",
    "    order_driver_data = order_driver_data.loc[\n",
    "        (order_driver_data[\"status\"] == 5) & (order_driver_data[\"outside\"] == 0)\n",
    "    ]\n",
    "    print(order_driver_data.shape)\n",
    "    print(order_driver_data[\"accept\"].describe())\n",
    "\n",
    "    # Define features & target variable\n",
    "    # order_features = order_driver_data[[\"commission\", \"driver_distance\", \"hour\", \"weather_code\", \"work_time_minutes\"]]\n",
    "    order_features = order_driver_data[\n",
    "        [\"commission\", \"distance\", \"hour\", \"weather_code\", \"work_time_minutes\"]\n",
    "    ]\n",
    "    print(order_features.head())\n",
    "    acceptance_status = order_driver_data[\"accept\"]\n",
    "    # Define features & target variable\n",
    "    # Train-test split\n",
    "    features_train, features_test, target_train, target_test = train_test_split(\n",
    "        order_features, acceptance_status, test_size=0.2, random_state=42\n",
    "    )\n",
    "\n",
    "    # Train model (BalancedRandomForest handles imbalance natively)\n",
    "    model = BalancedRandomForestClassifier(random_state=42)\n",
    "    model.fit(features_train, target_train)\n",
    "\n",
    "    # Make predictions\n",
    "    y_pred = model.predict(features_test)\n",
    "    y_probs = model.predict_proba(features_test)[:, 1]\n",
    "\n",
    "    # Evaluate model performance\n",
    "    print(\"Precision:\", precision_score(target_test, y_pred))\n",
    "    print(\"Recall:\", recall_score(target_test, y_pred))\n",
    "    print(\"F1 Score:\", f1_score(target_test, y_pred))\n",
    "    print(\"Classification Report:\\n\", classification_report(target_test, y_pred))\n",
    "    print(\"Confusion Matrix:\\n\", confusion_matrix(target_test, y_pred))\n",
    "    print(\"ROC AUC Score:\", roc_auc_score(target_test, y_probs))\n",
    "    # Save trained model (only the classifier, without SMOTE)\n",
    "    joblib.dump(model, \"./Out/acceptance_model.pkl\")"
   ]
  },
  {
   "cell_type": "markdown",
   "id": "c822bb88",
   "metadata": {},
   "source": [
    "---"
   ]
  },
  {
   "cell_type": "markdown",
   "id": "bcf6d2fa",
   "metadata": {},
   "source": [
    "## Get Weather Code"
   ]
  },
  {
   "cell_type": "code",
   "execution_count": 16,
   "id": "e09cf8b2",
   "metadata": {},
   "outputs": [],
   "source": [
    "class WeatherService:\n",
    "    def __init__(self, weather_csv_path: str):\n",
    "        df = pd.read_csv(weather_csv_path)\n",
    "        # Convert 'datetime' column to datetime objects and normalize to the hour start\n",
    "        df[\"datetime\"] = pd.to_datetime(df[\"datetime\"]).dt.floor(\"H\")\n",
    "        # Set 'datetime' as index and convert 'weather_code' to a dictionary\n",
    "        self.weather_data = df.set_index(\"datetime\")[\"weather_code\"].to_dict()\n",
    "\n",
    "    def get_weather_code(self, dt) -> int:\n",
    "        \"\"\"Get weather code for the hour containing datetime dt\"\"\"\n",
    "        hour_key = dt.replace(minute=0, second=0)\n",
    "        # Default: 1 (sunny)\n",
    "        return self.weather_data.get(hour_key, 1)"
   ]
  },
  {
   "cell_type": "markdown",
   "id": "e81fe788",
   "metadata": {},
   "source": [
    "---"
   ]
  },
  {
   "cell_type": "markdown",
   "id": "956418bc",
   "metadata": {},
   "source": [
    "## Define the Order"
   ]
  },
  {
   "cell_type": "code",
   "execution_count": 17,
   "id": "73169bdd",
   "metadata": {},
   "outputs": [],
   "source": [
    "class Order:\n",
    "    \"\"\"\n",
    "    Represents a single customer order with details about pickup, dropoff, pricing,\n",
    "    and calculated commission/revenue.\n",
    "    \"\"\"\n",
    "\n",
    "    def __init__(\n",
    "        self,\n",
    "        order_id: int,\n",
    "        datetime_str: str,\n",
    "        pickup_area: int,\n",
    "        dropoff_area: int,\n",
    "        pickup_lat: float,\n",
    "        pickup_lon: float,\n",
    "        dropoff_lat: float,\n",
    "        dropoff_lon: float,\n",
    "        customer_price: float,\n",
    "        commissionPercent: float,\n",
    "    ):\n",
    "        \"\"\"\n",
    "        Initializes an Order object.\n",
    "\n",
    "        Args:\n",
    "            order_id (int): Unique identifier for the order.\n",
    "            datetime_str (str): Date and time of the order creation in '%Y-%m-%d %H:%M:%S.%f' format.\n",
    "            pickup_area (int): Identifier for the pickup geographical area.\n",
    "            dropoff_area (int): Identifier for the dropoff geographical area.\n",
    "            pickup_lat (float): Latitude coordinate of the pickup location.\n",
    "            pickup_lon (float): Longitude coordinate of the pickup location.\n",
    "            dropoff_lat (float): Latitude coordinate of the dropoff location.\n",
    "            dropoff_lon (float): Longitude coordinate of the dropoff location.\n",
    "            customer_price (float): The total price paid by the customer for the order.\n",
    "            commissionPercent (float): The percentage of the customer price taken as platform commission (e.g., 0.20 for 20%).\n",
    "        \"\"\"\n",
    "        self.order_id = order_id\n",
    "        # Convert datetime string to a datetime object for easier manipulation\n",
    "        self.datetime = datetime.strptime(datetime_str, \"%Y-%m-%d %H:%M:%S.%f\")\n",
    "        self.pickup_area = pickup_area\n",
    "        self.dropoff_area = dropoff_area\n",
    "        self.pickup_lat = pickup_lat\n",
    "        self.pickup_lon = pickup_lon\n",
    "        self.dropoff_lat = dropoff_lat\n",
    "        self.dropoff_lon = dropoff_lon\n",
    "        self.customer_price = customer_price\n",
    "        self.commissionPercent = commissionPercent\n",
    "\n",
    "        # These calculations were previously in __post_init__\n",
    "        # Calculate the driver's earnings from the order\n",
    "        self.driver_commission = self.customer_price * (1 - self.commissionPercent)\n",
    "        # Calculate the platform's revenue from the order\n",
    "        self.platform_revenue = self.customer_price * self.commissionPercent\n",
    "        # Extract the hour of the day when the order was placed (0-23)\n",
    "        self.hour_of_day = self.datetime.hour"
   ]
  },
  {
   "cell_type": "markdown",
   "id": "905cc187",
   "metadata": {},
   "source": [
    "---"
   ]
  },
  {
   "cell_type": "markdown",
   "id": "dc815893",
   "metadata": {},
   "source": [
    "## Define the Driver"
   ]
  },
  {
   "cell_type": "code",
   "execution_count": 18,
   "id": "bee03aeb",
   "metadata": {},
   "outputs": [],
   "source": [
    "class Driver:\n",
    "    def __init__(\n",
    "        self,\n",
    "        driver_id: int,\n",
    "        current_lat: float,\n",
    "        current_lon: float,\n",
    "        current_area: int,\n",
    "        work_time_minutes: float,\n",
    "        available: bool = True,\n",
    "        accepted_order: bool = False,\n",
    "    ):\n",
    "        self.driver_id = driver_id\n",
    "        self.current_lat = current_lat\n",
    "        self.current_lon = current_lon\n",
    "        self.current_area = current_area\n",
    "        self.work_time_minutes = work_time_minutes\n",
    "        self.available = available\n",
    "        self.accepted_order = accepted_order\n",
    "        self.model = None  # Model still needs to be set externally\n",
    "\n",
    "        print(\n",
    "            f\"Driver {self.driver_id} is initialized with location ({self.current_lat}, {self.current_lon})\"\n",
    "        )\n",
    "\n",
    "    def distance_to(self, order: Order) -> float:\n",
    "        \"\"\"Calculate Euclidean distance in kilometers (approx).\"\"\"\n",
    "        return (\n",
    "            math.sqrt(\n",
    "                (self.current_lat - order.dropoff_lat) ** 2\n",
    "                + (self.current_lon - order.dropoff_lon) ** 2\n",
    "            )\n",
    "            * 111\n",
    "        ) * 1000\n",
    "\n",
    "    def calculate_accept_prob(self, order: Order, weather_code: int) -> float:\n",
    "        \"\"\"Predict acceptance probability using logistic regression.\"\"\"\n",
    "        if self.model is None:\n",
    "            raise ValueError(\n",
    "                \"Driver model not initialized! Must be set in DeliverySimulator.\"\n",
    "            )\n",
    "\n",
    "        features = {\n",
    "            \"commission\": [order.driver_commission],\n",
    "            \"distance\": [self.distance_to(order)],\n",
    "            \"hour\": [order.hour_of_day],\n",
    "            \"weather_code\": [weather_code],\n",
    "            \"work_time_minutes\": [self.work_time_minutes],\n",
    "        }\n",
    "        print(\"Features input to the model for prediction:\")\n",
    "        print(features)\n",
    "        return self.model.predict_proba(pd.DataFrame(features))[0][1]\n",
    "\n",
    "    def decide_acceptance(\n",
    "        self,\n",
    "        order: Order,\n",
    "        weather_code: int,\n",
    "        threshold: float = np.random.random(),\n",
    "    ) -> bool:\n",
    "        \"\"\"Make acceptance decision based on probability.\"\"\"\n",
    "        if not self.available:\n",
    "            return False\n",
    "\n",
    "        # random_value = np.random.random()\n",
    "        random_value = threshold\n",
    "        # print(f\"Random Value: {random_value:.2f}\")\n",
    "        prob = self.calculate_accept_prob(order, weather_code)\n",
    "\n",
    "        accepted = bool(random_value < prob)\n",
    "        if accepted:\n",
    "            print(\n",
    "                f\"Driver {self.driver_id} accept the order with probability of {prob} and threshold {threshold}\"\n",
    "            )\n",
    "            self.accepted_order = True\n",
    "        else:\n",
    "            print(\n",
    "                f\"Driver {self.driver_id} did not accept the order with probability of {prob} and threshold {threshold}\"\n",
    "            )\n",
    "        return accepted\n",
    "\n",
    "    def update_location(self, order: Order):\n",
    "        \"\"\"Update location only if the driver has taken an order.\"\"\"\n",
    "        if self.accepted_order:\n",
    "            self.current_lat = order.dropoff_lat\n",
    "            self.current_lon = order.dropoff_lon\n",
    "            self.current_area = order.dropoff_area\n",
    "            print(\n",
    "                f\"Driver {self.driver_id} location moves to ({self.current_lat}, {self.current_lon})\"\n",
    "            )\n",
    "        else:\n",
    "            print(f\"Driver {self.driver_id} keeps the same location\")"
   ]
  },
  {
   "cell_type": "markdown",
   "id": "2dc28731",
   "metadata": {},
   "source": [
    "---"
   ]
  },
  {
   "cell_type": "markdown",
   "id": "9a6112e2",
   "metadata": {},
   "source": [
    "## Test Order and Driver"
   ]
  },
  {
   "cell_type": "code",
   "execution_count": 19,
   "id": "6b267433",
   "metadata": {},
   "outputs": [
    {
     "name": "stdout",
     "output_type": "stream",
     "text": [
      "Driver 999 is initialized with location (34.0, -118.0)\n"
     ]
    }
   ],
   "source": [
    "test_driver = Driver(\n",
    "    driver_id=999,\n",
    "    current_lat=34.0,\n",
    "    current_lon=-118.0,\n",
    "    current_area=100,\n",
    "    work_time_minutes=300,\n",
    "    available=True,\n",
    ")\n",
    "\n",
    "test_order = Order(\n",
    "    order_id=1,\n",
    "    datetime_str=\"2023-01-15 10:30:00.000000\",\n",
    "    pickup_area=101,\n",
    "    dropoff_area=202,\n",
    "    pickup_lat=34.05,\n",
    "    pickup_lon=-118.05,\n",
    "    dropoff_lat=34.1,\n",
    "    dropoff_lon=-118.1,\n",
    "    customer_price=100.0,\n",
    "    commissionPercent=0.20,\n",
    ")\n",
    "\n",
    "test_weather_code = 1\n",
    "test_driver.model = model"
   ]
  },
  {
   "cell_type": "code",
   "execution_count": 22,
   "id": "36a7f677",
   "metadata": {},
   "outputs": [
    {
     "name": "stdout",
     "output_type": "stream",
     "text": [
      "Features input to the model for prediction:\n",
      "{'commission': [80.0], 'distance': [15697.770542341023], 'hour': [10], 'weather_code': [1], 'work_time_minutes': [300]}\n",
      "Driver 999 did not accept the order with probability of 0.41 and threshold 0.5\n",
      "Features input to the model for prediction:\n",
      "{'commission': [80.0], 'distance': [15697.770542341023], 'hour': [10], 'weather_code': [1], 'work_time_minutes': [300]}\n",
      "Driver 999 accept the order with probability of 0.41 and threshold 0.3653670961416522\n"
     ]
    }
   ],
   "source": [
    "# manully set threshold\n",
    "decide_pred = test_driver.decide_acceptance(\n",
    "    test_order, test_weather_code, threshold=0.5\n",
    ")\n",
    "\n",
    "# random threshold\n",
    "decide_pred = test_driver.decide_acceptance(test_order, test_weather_code)"
   ]
  },
  {
   "cell_type": "code",
   "execution_count": 12,
   "id": "9603ba79",
   "metadata": {},
   "outputs": [
    {
     "name": "stdout",
     "output_type": "stream",
     "text": [
      "Driver 999 keeps the same location\n"
     ]
    }
   ],
   "source": [
    "location_pred = test_driver.update_location(test_order)"
   ]
  },
  {
   "cell_type": "markdown",
   "id": "d851c85b",
   "metadata": {},
   "source": [
    "---"
   ]
  },
  {
   "cell_type": "markdown",
   "id": "02951412",
   "metadata": {},
   "source": [
    "# Define Ride Hail Env"
   ]
  },
  {
   "cell_type": "code",
   "execution_count": null,
   "id": "e9cda655",
   "metadata": {},
   "outputs": [],
   "source": [
    "import gym\n",
    "from gym import spaces\n",
    "from collections import defaultdict\n",
    "\n",
    "\n",
    "class DeliveryEnv(gym.Env):\n",
    "    def __init__(\n",
    "        self,\n",
    "        orders: list,\n",
    "        driver_data: pd.DataFrame,\n",
    "        schedule_data: pd.DataFrame,\n",
    "        weather_service: WeatherService,\n",
    "    ):\n",
    "        super(DeliveryEnv, self).__init__()\n",
    "\n",
    "        # self.simulator = DeliverySimulator(\n",
    "        #     orders, driver_data, schedule_data, weather_service\n",
    "        # )\n",
    "        self.orders = sorted(orders, key=lambda o: o.datetime)\n",
    "        self.weather = weather_service\n",
    "        self.driver_schedule = self._load_driver_schedule(schedule_data)\n",
    "        self.driver_attempts = self._load_driver_attempts(driver_data)\n",
    "        self.drivers_by_id = {}  # Cache all drivers by ID\n",
    "        self.area_drivers = self._group_drivers_by_area()\n",
    "        # Define action space (continuous commission rate between 0 and 1)\n",
    "        self.action_space = spaces.Box(low=0.0, high=1.0, shape=(1,), dtype=np.float32)\n",
    "\n",
    "        # Define state space (order + specific driver attributes)\n",
    "        self.observation_space = spaces.Dict(\n",
    "            {\n",
    "                \"customer_price\": spaces.Box(\n",
    "                    low=0.0, high=1.0, shape=(1,), dtype=np.float32\n",
    "                ),\n",
    "                \"pickup_area\": spaces.Discrete(501),\n",
    "                \"dropoff_area\": spaces.Discrete(501),\n",
    "                \"hour_of_day\": spaces.Discrete(24),\n",
    "                \"day_of_week\": spaces.Discrete(7),\n",
    "                \"weather\": spaces.Discrete(4),\n",
    "                \"driver_area\": spaces.Discrete(501),\n",
    "                \"working_status\": spaces.Discrete(2),\n",
    "            }\n",
    "        )\n",
    "\n",
    "        self.orders_by_day = defaultdict(list)\n",
    "        for order in self.simulator.orders:\n",
    "            order_day = order.datetime.date()\n",
    "            self.orders_by_day[order_day].append(order)\n",
    "\n",
    "        # Tracking variables\n",
    "        self.assigned_order = 0  # Tracks # of unassigned orders\n",
    "        self.current_day_index = 0  # Tracks training epoch (day index)\n",
    "        self.current_order_index = 0  # Tracks current order within the day\n",
    "        self.current_driver_index = 0\n",
    "        self.current_day = None  # Current date being trained\n",
    "        self.updated_drivers = (\n",
    "            set()\n",
    "        )  # Track drivers who have accepted at least one order\n",
    "        self.next_order = False\n",
    "        self.episode_rewards = 0\n",
    "        self.episode_steps = 0\n",
    "        self.total_driver_commission = 0.0\n",
    "        self.max_steps = 30000\n",
    "\n",
    "    def _load_driver_schedule(self, schedule_data: pd.DataFrame):\n",
    "        \"\"\"Loads driver work schedules from a CSV file into a dictionary.\"\"\"\n",
    "        schedule = defaultdict(set)\n",
    "        for _, row in schedule_data.iterrows():\n",
    "            driver_id = row[\"driver_id\"]\n",
    "            date = row[\"date\"]\n",
    "            hour = row[\"hour\"]\n",
    "            schedule[(driver_id, date)].add(hour)\n",
    "        return schedule\n",
    "\n",
    "    def _load_driver_attempts(self, driver_data: pd.DataFrame):\n",
    "        \"\"\"Loads driver assignment attempts, tracking all instances a driver receives an order.\"\"\"\n",
    "        attempts = defaultdict(list)\n",
    "        for _, row in driver_data.iterrows():\n",
    "            order_id = row[\"order_id\"]\n",
    "            driver_id = row[\"driver_id\"]\n",
    "            datetime = row[\"datetime\"]\n",
    "            lat, lon, area = row[\"driver_lat\"], row[\"driver_lon\"], row[\"driver_area\"]\n",
    "            work_time_minutes = row[\"work_time_minutes\"]\n",
    "            attempts[order_id].append(\n",
    "                (driver_id, datetime, lat, lon, area, work_time_minutes)\n",
    "            )\n",
    "        return attempts\n",
    "\n",
    "    def _group_drivers_by_area(self):\n",
    "        \"\"\"Groups drivers by their current area for efficient order assignment.\"\"\"\n",
    "        area_drivers = defaultdict(list)\n",
    "        for order_id, driver_attempts in self.driver_attempts.items():\n",
    "            for (\n",
    "                driver_id,\n",
    "                datetime,\n",
    "                lat,\n",
    "                lon,\n",
    "                area,\n",
    "                work_time_minutes,\n",
    "            ) in driver_attempts:\n",
    "                if driver_id not in self.drivers_by_id:\n",
    "                    driver = Driver(\n",
    "                        driver_id=driver_id,\n",
    "                        current_lat=lat,\n",
    "                        current_lon=lon,\n",
    "                        current_area=area,\n",
    "                        work_time_minutes=work_time_minutes,\n",
    "                    )\n",
    "                    # driver.model = DeliverySimulator.shared_model\n",
    "                    self.drivers_by_id[driver_id] = driver\n",
    "                    area_drivers[area].append(driver)\n",
    "        return area_drivers"
   ]
  }
 ],
 "metadata": {
  "kernelspec": {
   "display_name": "rh",
   "language": "python",
   "name": "python3"
  },
  "language_info": {
   "codemirror_mode": {
    "name": "ipython",
    "version": 3
   },
   "file_extension": ".py",
   "mimetype": "text/x-python",
   "name": "python",
   "nbconvert_exporter": "python",
   "pygments_lexer": "ipython3",
   "version": "3.11.13"
  }
 },
 "nbformat": 4,
 "nbformat_minor": 5
}
